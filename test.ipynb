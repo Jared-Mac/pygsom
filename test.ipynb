{
 "cells": [
  {
   "cell_type": "code",
   "execution_count": 1,
   "metadata": {},
   "outputs": [],
   "source": [
    "import GSOM\n",
    "import numpy as np\n",
    "import matplotlib.pyplot as plt\n",
    "import time\n",
    "import networkx as nx\n",
    "import itertools"
   ]
  },
  {
   "cell_type": "code",
   "execution_count": 3,
   "metadata": {},
   "outputs": [],
   "source": [
    "dataset = np.load(\"data\\small_scale.npy\")\n",
    "dataset = dataset * 1000\n",
    "\n",
    "np.random.shuffle(dataset)\n"
   ]
  },
  {
   "cell_type": "code",
   "execution_count": 4,
   "metadata": {},
   "outputs": [
    {
     "name": "stdout",
     "output_type": "stream",
     "text": [
      "Growth Threshold = 0.12375080743617506\n",
      "Weight Change 7.388952699246264e-06\n",
      "Average error 0.05087907268408297\n",
      "Max error 0.10636037796110469\n",
      "Weights didn't change\n",
      "Collapsing Triangle\n",
      "Collapsing Triangle\n",
      "Collapsing Triangle\n",
      "Weight Change 0.0\n",
      "Weights didn't change\n",
      "Weight Change 0.0\n",
      "Weights didn't change\n",
      "Time training: 0.28981999994721264\n"
     ]
    }
   ],
   "source": [
    "basis = GSOM.GSOM(dataset,0.94,0.10)\n",
    "\n",
    "start_time = time.perf_counter() \n",
    "basis.train()\n",
    "end_time = time.perf_counter()\n",
    "print(f'Time training: {end_time-start_time}')\n"
   ]
  },
  {
   "cell_type": "code",
   "execution_count": 5,
   "metadata": {},
   "outputs": [
    {
     "name": "stdout",
     "output_type": "stream",
     "text": [
      "Graph with 68 nodes and 67 edges\n",
      "Triangles: 0.0\n"
     ]
    },
    {
     "data": {
      "image/png": "[encoded data removed]",
      "text/plain": [
       "<Figure size 432x288 with 1 Axes>"
      ]
     },
     "metadata": {},
     "output_type": "display_data"
    }
   ],
   "source": [
    "data = np.array(basis.data)\n",
    "\n",
    "x_data = data[:,[0]] / 1000\n",
    "y_data = data[:,[1]] / 1000\n",
    "print(basis.network)\n",
    "plt.plot(x_data, y_data, '.', markerfacecolor='red')\n",
    "\n",
    "\n",
    "basis.print()\n",
    "basis.visualizeGraph()\n",
    "\n",
    "plt.show()"
   ]
  },
  {
   "cell_type": "code",
   "execution_count": 19,
   "metadata": {},
   "outputs": [],
   "source": [
    "from scipy import spatial\n",
    "import numba as nb\n",
    "@nb.njit(fastmath=True)\n",
    "def norm(l):\n",
    "    s = 0.\n",
    "    for i in range(l.shape[0]):\n",
    "        s += l[i]**2\n",
    "    return np.sqrt(s)"
   ]
  },
  {
   "cell_type": "code",
   "execution_count": 18,
   "metadata": {},
   "outputs": [],
   "source": [
    "x = list(basis.network.nodes)\n",
    "output_list = [i.array for i in x]\n"
   ]
  },
  {
   "cell_type": "code",
   "execution_count": 47,
   "metadata": {},
   "outputs": [
    {
     "name": "stdout",
     "output_type": "stream",
     "text": [
      "Numpy Lin Alg: 0.001065799966454506\n",
      "Norm: 0.00030150008387863636\n",
      "KDTree: 0.0005524000152945518\n"
     ]
    }
   ],
   "source": [
    "datapoint = np.random.rand(2).astype(np.float32)\n",
    "\n",
    "start_time = time.perf_counter() \n",
    "for y in output_list:\n",
    "    np.linalg.norm(y-datapoint)\n",
    "end_time = time.perf_counter()\n",
    "print(f'Numpy Lin Alg: {end_time-start_time}')\n",
    "\n",
    "start_time = time.perf_counter() \n",
    "for y in output_list:\n",
    "    norm(y-datapoint)\n",
    "end_time = time.perf_counter()\n",
    "print(f'Norm: {end_time-start_time}')\n",
    "\n",
    "\n",
    "start_time = time.perf_counter() \n",
    "tree = spatial.cKDTree(output_list)\n",
    "tree.query(datapoint,p=2)\n",
    "end_time = time.perf_counter()\n",
    "print(f'KDTree: {end_time-start_time}')\n"
   ]
  },
  {
   "cell_type": "code",
   "execution_count": 46,
   "metadata": {},
   "outputs": [],
   "source": [
    "\n",
    "paths = dict(nx.all_pairs_shortest_path(basis.network))\n",
    "c_segments = []\n",
    "count = 0\n",
    "nodes_j = []\n",
    "for node,degree in list(basis.network.degree()):\n",
    "    if degree == 1 or degree > 2:\n",
    "        nodes_j.append(node)\n",
    "\n",
    "\n",
    "for x1,x2 in itertools.combinations(nodes_j,2):\n",
    "    flag = True\n",
    "    if nx.has_path(basis.network,x1,x2):\n",
    "        for y in paths[x1][x2][1:-1]:\n",
    "            for z in nodes_j:\n",
    "                if z == y:\n",
    "                    flag = False\n",
    "                    break\n",
    "        if flag:\n",
    "            c_segments.append(paths[x1][x2])\n",
    "        count += 1\n",
    "    \n",
    "\n",
    "# c_segments = GSOM.findSegments(basis.network)"
   ]
  },
  {
   "cell_type": "code",
   "execution_count": null,
   "metadata": {},
   "outputs": [
    {
     "name": "stdout",
     "output_type": "stream",
     "text": [
      "40\n"
     ]
    }
   ],
   "source": [
    "print(len(c_segments))"
   ]
  },
  {
   "cell_type": "code",
   "execution_count": null,
   "metadata": {},
   "outputs": [
    {
     "name": "stdout",
     "output_type": "stream",
     "text": [
      "MultiDiGraph with 10 nodes and 20 edges\n"
     ]
    }
   ],
   "source": [
    "import osmnx as ox\n",
    "\n",
    "G = ox.graph_from_bbox(34.2946,34.2739,-118.1399,-118.0957,network_type=\"all_private\",truncate_by_edge=True)\n",
    "print(G)\n",
    "nx.draw(G,node_size=50)\n"
   ]
  },
  {
   "cell_type": "code",
   "execution_count": null,
   "metadata": {},
   "outputs": [],
   "source": [
    "\n",
    "# min_lat = 40.6174\n",
    "# max_lat = 40.6405\n",
    "# min_long = -111.6501\n",
    "# max_long = -111.6709\n",
    "\n",
    "\n",
    "\n",
    "min_lat = 34.2739\n",
    "max_lat = 34.2946\n",
    "min_long = -118.0957\n",
    "max_long = -118.1399\n",
    "\n",
    "\n",
    "\n",
    "\n",
    "\n",
    "\n",
    "new_network = nx.Graph()\n",
    "added = {}\n",
    "input = G\n",
    "i = 0\n",
    "for u,v,data in input.edges(keys=False,data=True):\n",
    "    if(\"geometry\" not in data):\n",
    "        print(\"here\")\n",
    "        continue\n",
    "    i += 1\n",
    "    if u not in added:\n",
    "        lat = input.nodes[u]['y']\n",
    "        long = input.nodes[u]['x']\n",
    "        if lat < min_lat or lat > max_lat:\n",
    "            continue\n",
    "        if abs(long) < abs(min_long) or abs(long) > abs(max_long):\n",
    "            continue\n",
    "        n1 = GSOM.Node(np.array([lat,long], dtype=float))\n",
    "        new_network.add_node(n1)\n",
    "        added[u] = n1\n",
    "    if v not in added:\n",
    "        lat = input.nodes[v]['y']\n",
    "        long = input.nodes[v]['x']\n",
    "        if lat < min_lat or lat > max_lat:\n",
    "            continue\n",
    "        if abs(long) < abs(min_long) or abs(long) > abs(max_long):\n",
    "            continue\n",
    "        n2 = GSOM.Node(np.array([lat,long], dtype=float))\n",
    "        new_network.add_node(n2)\n",
    "        added[v] = n2\n",
    "\n",
    "    polyline = list(data[\"geometry\"].coords)\n",
    "\n",
    "    # Construct new node and edge\n",
    "    weights = np.array([polyline[0][1],polyline[0][0]],dtype=float)\n",
    "    prev_node = GSOM.Node(weights)\n",
    "    new_network.add_node(prev_node)\n",
    "\n",
    "    # new_network.add_edge(added[v],prev_node,weight=1)\n",
    "\n",
    "\n",
    "    for pair in list(data[\"geometry\"].coords[1:]):\n",
    "        weights = np.array([pair[1],pair[0]],dtype=float)\n",
    "        new_node = GSOM.Node(weights)\n",
    "        new_network.add_node(new_node)\n",
    "        new_network.add_edge(new_node,prev_node,weight=1)  \n",
    "        prev_node = new_node\n",
    "    \n",
    "\n",
    "    # new_network.add_edge(prev_node,added[u],weight=1)  \n",
    "\n",
    "\n",
    "# Clean Data to inside bounding box\n",
    "# 32.93127,32.92748,-117.17359,-117.17801\n",
    "\n",
    "# for node in list(network.nodes):\n",
    "#     lat = node.array[0]\n",
    "#     long = node.array[1]\n",
    "#     remove = False\n",
    "#     if lat < min_lat or lat > max_lat:\n",
    "#         remove = True\n",
    "#     if abs(long) < abs(min_long) or abs(long) > abs(max_long):\n",
    "#         remove = True\n",
    "#     if remove:\n",
    "#         network.remove_node(node)\n",
    "\n",
    "        \n",
    "\n",
    "pos_dict = {}\n",
    "for node in new_network:\n",
    "    pos_dict[node] = node.array\n",
    "\n",
    "%matplotlib qt\n",
    "\n",
    "edges,weights = zip(*nx.get_edge_attributes(new_network,\"weight\").items())\n",
    "nx.draw(new_network,pos=pos_dict,node_size=50)\n",
    "\n"
   ]
  },
  {
   "cell_type": "code",
   "execution_count": null,
   "metadata": {},
   "outputs": [],
   "source": []
  },
  {
   "cell_type": "code",
   "execution_count": null,
   "metadata": {},
   "outputs": [
    {
     "name": "stdout",
     "output_type": "stream",
     "text": [
      "amount of segments 12\n"
     ]
    }
   ],
   "source": [
    "# import GSOM \n",
    "# G_h = GSOM.convertGraph(ox.utils_graph.get_undirected(G))\n",
    "# nx.draw(G_h,node_size=50)\n",
    "\n",
    "# gt_segments = GSOM.findSegments(new_network)\n",
    "\n",
    "paths = dict(nx.all_pairs_shortest_path(new_network))\n",
    "segments = []\n",
    "count = 0\n",
    "nodes_j = []\n",
    "for node,degree in list(new_network.degree()):\n",
    "    if degree == 1 or degree > 2:\n",
    "        nodes_j.append(node)\n",
    "\n",
    "\n",
    "for x1,x2 in itertools.combinations(nodes_j,2):\n",
    "    flag = True\n",
    "\n",
    "    if nx.has_path(new_network,x1,x2):\n",
    "        for y in paths[x1][x2][1:-1]:\n",
    "            for z in nodes_j:\n",
    "                if z == y:\n",
    "                    flag = False\n",
    "                    break\n",
    "        if flag:\n",
    "            segments.append(paths[x1][x2])\n",
    "        count += 1\n",
    "    \n",
    "print(f\"amount of segments {len(segments)}\")\n",
    "\n",
    "\n"
   ]
  },
  {
   "cell_type": "code",
   "execution_count": null,
   "metadata": {},
   "outputs": [
    {
     "ename": "AttributeError",
     "evalue": "'numpy.ndarray' object has no attribute 'array'",
     "output_type": "error",
     "traceback": [
      "\u001b[1;31m---------------------------------------------------------------------------\u001b[0m",
      "\u001b[1;31mAttributeError\u001b[0m                            Traceback (most recent call last)",
      "\u001b[1;32me:\\pygsom\\test.ipynb Cell 10'\u001b[0m in \u001b[0;36m<cell line: 11>\u001b[1;34m()\u001b[0m\n\u001b[0;32m     <a href='vscode-notebook-cell:/e%3A/pygsom/test.ipynb#ch0000007?line=14'>15</a>\u001b[0m distanceSum \u001b[39m=\u001b[39m \u001b[39m0\u001b[39m\n\u001b[0;32m     <a href='vscode-notebook-cell:/e%3A/pygsom/test.ipynb#ch0000007?line=15'>16</a>\u001b[0m \u001b[39mfor\u001b[39;00m point_c \u001b[39min\u001b[39;00m edge_c:\n\u001b[1;32m---> <a href='vscode-notebook-cell:/e%3A/pygsom/test.ipynb#ch0000007?line=16'>17</a>\u001b[0m     distanceSum \u001b[39m+\u001b[39m\u001b[39m=\u001b[39m lineDistance(point_c,edge_t)\n\u001b[0;32m     <a href='vscode-notebook-cell:/e%3A/pygsom/test.ipynb#ch0000007?line=17'>18</a>\u001b[0m     n \u001b[39m+\u001b[39m\u001b[39m=\u001b[39m \u001b[39m1\u001b[39m\n\u001b[0;32m     <a href='vscode-notebook-cell:/e%3A/pygsom/test.ipynb#ch0000007?line=18'>19</a>\u001b[0m segmentDistance \u001b[39m=\u001b[39m distanceSum \u001b[39m/\u001b[39m n\n",
      "\u001b[1;32me:\\pygsom\\test.ipynb Cell 10'\u001b[0m in \u001b[0;36mlineDistance\u001b[1;34m(point, polyline)\u001b[0m\n\u001b[0;32m      <a href='vscode-notebook-cell:/e%3A/pygsom/test.ipynb#ch0000007?line=1'>2</a>\u001b[0m minDistance \u001b[39m=\u001b[39m \u001b[39mfloat\u001b[39m(\u001b[39m\"\u001b[39m\u001b[39minf\u001b[39m\u001b[39m\"\u001b[39m)\n\u001b[0;32m      <a href='vscode-notebook-cell:/e%3A/pygsom/test.ipynb#ch0000007?line=2'>3</a>\u001b[0m \u001b[39mfor\u001b[39;00m node \u001b[39min\u001b[39;00m polyline:\n\u001b[1;32m----> <a href='vscode-notebook-cell:/e%3A/pygsom/test.ipynb#ch0000007?line=3'>4</a>\u001b[0m     distance \u001b[39m=\u001b[39m GSOM\u001b[39m.\u001b[39;49mdistance(point\u001b[39m.\u001b[39;49marray,node\u001b[39m.\u001b[39;49marray)\n\u001b[0;32m      <a href='vscode-notebook-cell:/e%3A/pygsom/test.ipynb#ch0000007?line=4'>5</a>\u001b[0m     \u001b[39mif\u001b[39;00m distance \u001b[39m<\u001b[39m minDistance:\n\u001b[0;32m      <a href='vscode-notebook-cell:/e%3A/pygsom/test.ipynb#ch0000007?line=5'>6</a>\u001b[0m         minDistance \u001b[39m=\u001b[39m distance\n",
      "File \u001b[1;32me:\\pygsom\\GSOM.py:107\u001b[0m, in \u001b[0;36mdistance\u001b[1;34m(n1, n2)\u001b[0m\n\u001b[0;32m    <a href='file:///e%3A/pygsom/GSOM.py?line=105'>106</a>\u001b[0m \u001b[39mdef\u001b[39;00m \u001b[39mdistance\u001b[39m(n1,n2):\n\u001b[1;32m--> <a href='file:///e%3A/pygsom/GSOM.py?line=106'>107</a>\u001b[0m     \u001b[39mreturn\u001b[39;00m np\u001b[39m.\u001b[39mlinalg\u001b[39m.\u001b[39mnorm(n1\u001b[39m.\u001b[39;49marray\u001b[39m-\u001b[39mn2\u001b[39m.\u001b[39marray,\u001b[39mord\u001b[39m\u001b[39m=\u001b[39m\u001b[39m3\u001b[39m)\n",
      "\u001b[1;31mAttributeError\u001b[0m: 'numpy.ndarray' object has no attribute 'array'"
     ]
    }
   ],
   "source": [
    "def lineDistance(point,polyline):\n",
    "    minDistance = float(\"inf\")\n",
    "    for node in polyline:\n",
    "        distance = GSOM.distance(point.array,node.array)\n",
    "        if distance < minDistance:\n",
    "            minDistance = distance\n",
    "    return minDistance\n",
    "\n",
    "seg_dict = {}\n",
    "match_dict = {}\n",
    "for id_c,edge_c in enumerate(c_segments):\n",
    "    minDistance = float(\"inf\")\n",
    "    for id_t,edge_t in enumerate(gt_segments):\n",
    "        n = 0\n",
    "        distanceSum = 0\n",
    "        for point_c in edge_c:\n",
    "            distanceSum += lineDistance(point_c,edge_t)\n",
    "            n += 1\n",
    "        segmentDistance = distanceSum / n\n",
    "        if segmentDistance < minDistance:\n",
    "            minDistance = segmentDistance\n",
    "            seg_dict[id_c] = id_t\n",
    "\n",
    "\n",
    "matched_length = 0\n",
    "for x in seg_dict:\n",
    "    segment = gt_segments[seg_dict[x]]\n",
    "    for first,second in zip(segment,segment[1:]):\n",
    "        matched_length += GSOM.distance(first.array,second.array)\n",
    "print(matched_length)\n",
    "\n",
    "total_length = 0\n",
    "for segment in gt_segments:\n",
    "    for first,second in zip(segment,segment[1:]):\n",
    "        total_length += GSOM.distance(first.array,second.array)\n",
    "print(total_length)\n",
    "print(f\"completeness {matched_length / total_length}\")\n"
   ]
  },
  {
   "cell_type": "code",
   "execution_count": null,
   "metadata": {},
   "outputs": [
    {
     "name": "stdout",
     "output_type": "stream",
     "text": [
      "[0.00017988207184941807, 0.00010179636390198003, 6.369911445589677e-05, 0.00010603116821504126, 0.00017334990836540757, 0.00013842791212884603, 0.0001537524840779592]\n",
      "Average: 0.00013099128899922126\n",
      "Standard Deviation: 3.920919112923582e-05\n"
     ]
    }
   ],
   "source": [
    "\n",
    "precisionArray = []\n",
    "for id_c,edge_c in enumerate(c_segments):\n",
    "    minDistance = float(\"inf\")\n",
    "    for id_t,edge_t in enumerate(gt_segments):\n",
    "        n = 0\n",
    "        distanceSum = 0\n",
    "        for point_c in edge_c:\n",
    "            distanceSum += lineDistance(point_c,edge_t)\n",
    "            n += 1\n",
    "        segmentDistance = distanceSum / n\n",
    "        if segmentDistance < minDistance:\n",
    "            minDistance = segmentDistance\n",
    "    precisionArray.append(minDistance)\n",
    "            \n",
    "\n",
    "print(precisionArray)\n",
    "print(f\"Average: {np.mean(precisionArray)}\")\n",
    "print(f\"Standard Deviation: {np.std(precisionArray)}\")\n",
    "\n",
    "\n",
    "# precisionArray[m] = distance between edge_c and edge_t_h\n",
    "# return average and std of precisionArray"
   ]
  },
  {
   "cell_type": "code",
   "execution_count": null,
   "metadata": {},
   "outputs": [
    {
     "name": "stdout",
     "output_type": "stream",
     "text": [
      "[[0. 0. 0. ... 0. 0. 0.]\n",
      " [0. 0. 0. ... 0. 0. 0.]\n",
      " [0. 0. 0. ... 0. 0. 0.]\n",
      " ...\n",
      " [0. 0. 0. ... 0. 0. 0.]\n",
      " [0. 0. 0. ... 0. 0. 0.]\n",
      " [0. 0. 0. ... 0. 0. 0.]]\n",
      "[[0. 1. 0. ... 0. 0. 0.]\n",
      " [1. 0. 1. ... 0. 0. 0.]\n",
      " [0. 1. 0. ... 0. 0. 0.]\n",
      " ...\n",
      " [0. 0. 0. ... 0. 1. 0.]\n",
      " [0. 0. 0. ... 1. 0. 1.]\n",
      " [0. 0. 0. ... 0. 1. 0.]]\n"
     ]
    }
   ],
   "source": [
    "print(nx.convert_matrix.to_numpy_array(basis.network))\n",
    "print(nx.convert_matrix.to_numpy_array(G_h))"
   ]
  },
  {
   "cell_type": "code",
   "execution_count": null,
   "metadata": {},
   "outputs": [],
   "source": []
  }
 ],
 "metadata": {
  "file_extension": ".py",
  "interpreter": {
   "hash": "d7fd79fd8e6b51a7310afc787c9960d91f43779859d47c6a2540dce8f77cfefb"
  },
  "kernelspec": {
   "display_name": "Python 3.10.4 ('ox')",
   "language": "python",
   "name": "python3"
  },
  "language_info": {
   "codemirror_mode": {
    "name": "ipython",
    "version": 3
   },
   "file_extension": ".py",
   "mimetype": "text/x-python",
   "name": "python",
   "nbconvert_exporter": "python",
   "pygments_lexer": "ipython3",
   "version": "3.10.4"
  },
  "mimetype": "text/x-python",
  "name": "python",
  "npconvert_exporter": "python",
  "orig_nbformat": 2,
  "pygments_lexer": "ipython3",
  "version": 3
 },
 "nbformat": 4,
 "nbformat_minor": 2
}
