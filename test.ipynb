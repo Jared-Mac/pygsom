{
 "cells": [
  {
   "cell_type": "code",
   "execution_count": 1,
   "metadata": {},
   "outputs": [],
   "source": [
    "import GSOM\n",
    "import numpy as np\n",
    "import matplotlib.pyplot as plt\n"
   ]
  },
  {
   "cell_type": "code",
   "execution_count": 2,
   "metadata": {},
   "outputs": [
    {
     "name": "stdout",
     "output_type": "stream",
     "text": [
      "Growth Threshold = 0.10258658877510116\n",
      "Average error 0.04724263322560785\n",
      "Max error 0.09968951894524507\n",
      "83\n"
     ]
    },
    {
     "data": {
      "image/png": "[encoded data removed]",
      "text/plain": [
       "<Figure size 432x288 with 1 Axes>"
      ]
     },
     "metadata": {},
     "output_type": "display_data"
    }
   ],
   "source": [
    "# x = np.linspace(0,1,60)\n",
    "# y = np.sin(x)\n",
    "# y_p = np.cos(x)\n",
    "# print(y.shape)\n",
    "# x_total = x\n",
    "# y_total = y\n",
    "# dataset = list(zip(x,y))\n",
    "# dataset = dataset + list(zip(x,y_p))\n",
    "# for h in range(4):\n",
    "#     noise = np.random.normal(0, .015, y.shape)\n",
    "#     x_hat = x + noise\n",
    "#     np.append(x_total,x_hat)\n",
    "#     noise = np.random.normal(0, .015, y.shape)\n",
    "#     y_hat = y + noise\n",
    "#     np.append(y_total,y_hat)\n",
    "#     xy = list(zip(x_hat,y_hat))\n",
    "#     plt.plot(x_hat, y_hat, '.')\n",
    "#     dataset = dataset + xy\n",
    "\n",
    "\n",
    "\n",
    "# for h in range(4):\n",
    "#     noise = np.random.normal(0, .015, y_p.shape)\n",
    "#     x_hat = x + noise\n",
    "#     np.append(x_total,x_hat)\n",
    "#     noise = np.random.normal(0, .015, y_p.shape)\n",
    "#     y_hat = y_p + noise\n",
    "#     np.append(y_total,y_hat)\n",
    "#     xy = list(zip(x_hat,y_hat))\n",
    "#     plt.plot(x_hat, y_hat, '.')\n",
    "#     dataset = dataset + xy\n",
    "dataset = np.load(\"small_scale.npy\")\n",
    "dataset = dataset * 1000\n",
    "# dataset = list(zip(xvals,yinterp))\n",
    "# dataset = list(zip(x,y))\n",
    "np.random.shuffle(dataset)\n",
    "# basis = GSOM.GSOM(dataset,0.95,0.15)\n",
    "basis = GSOM.GSOM(dataset,0.95,0.15)\n",
    "\n",
    "basis.train()\n",
    "\n",
    "\n",
    "\n",
    "data = np.array(basis.data)\n",
    "\n",
    "x_data = data[:,[0]] / 1000\n",
    "y_data = data[:,[1]] / 1000\n",
    "\n",
    "plt.plot(x_data, y_data, '.', markerfacecolor='red')\n",
    "plt.ion()\n",
    "basis.visualizeGraph()\n",
    "\n",
    "plt.show()\n"
   ]
  },
  {
   "cell_type": "code",
   "execution_count": 13,
   "metadata": {},
   "outputs": [
    {
     "name": "stdout",
     "output_type": "stream",
     "text": [
      "4.0\n"
     ]
    }
   ],
   "source": [
    "import networkx as nx \n",
    "\n",
    "print(sum(nx.triangles(basis.network).values()) /3)"
   ]
  },
  {
   "cell_type": "code",
   "execution_count": null,
   "metadata": {},
   "outputs": [],
   "source": []
  }
 ],
 "metadata": {
  "file_extension": ".py",
  "interpreter": {
   "hash": "9a9be143734011e08de18a0959681fb657bfe41041ecfcdc9a54a5059d8e2963"
  },
  "kernelspec": {
   "display_name": "Python 3.9.5 64-bit",
   "language": "python",
   "name": "python3"
  },
  "language_info": {
   "codemirror_mode": {
    "name": "ipython",
    "version": 3
   },
   "file_extension": ".py",
   "mimetype": "text/x-python",
   "name": "python",
   "nbconvert_exporter": "python",
   "pygments_lexer": "ipython3",
   "version": "3.10.2"
  },
  "mimetype": "text/x-python",
  "name": "python",
  "npconvert_exporter": "python",
  "orig_nbformat": 2,
  "pygments_lexer": "ipython3",
  "version": 3
 },
 "nbformat": 4,
 "nbformat_minor": 2
}
